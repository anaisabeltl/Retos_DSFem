{
  "nbformat": 4,
  "nbformat_minor": 0,
  "metadata": {
    "colab": {
      "name": "Reto Enero DS_Fem.ipynb",
      "provenance": [],
      "collapsed_sections": [],
      "authorship_tag": "ABX9TyNYNvzgOvnWNyVOj8tTeEKt",
      "include_colab_link": true
    },
    "kernelspec": {
      "name": "python3",
      "display_name": "Python 3"
    }
  },
  "cells": [
    {
      "cell_type": "markdown",
      "metadata": {
        "id": "view-in-github",
        "colab_type": "text"
      },
      "source": [
        "<a href=\"https://colab.research.google.com/github/anaisabeltl/Retos_DSFem/blob/main/Reto_Enero_DS_Fem.ipynb\" target=\"_parent\"><img src=\"https://colab.research.google.com/assets/colab-badge.svg\" alt=\"Open In Colab\"/></a>"
      ]
    },
    {
      "cell_type": "code",
      "metadata": {
        "id": "_oWlT-xSVlJd"
      },
      "source": [
        "#SOLUCIÓN RETO 1\r\n",
        "\r\n",
        "import math\r\n",
        "import os\r\n",
        "import random\r\n",
        "import re\r\n",
        "import sys\r\n",
        "\r\n",
        "def run():\r\n",
        "    n = int(input().strip())\r\n",
        "\r\n",
        "    if n % 2 == 1:\r\n",
        "        print(\"Weird\")\r\n",
        "    elif n % 2 == 0:\r\n",
        "        if n >= 2 and n <= 5:\r\n",
        "            print(\"Not Weird\")\r\n",
        "        elif n >= 6 and n <= 20:\r\n",
        "            print(\"Weird\")\r\n",
        "        elif n > 20:\r\n",
        "            print(\"Not Weird\")\r\n",
        "\r\n",
        "\r\n",
        "if __name__ == '__main__':\r\n",
        "    run()"
      ],
      "execution_count": null,
      "outputs": []
    },
    {
      "cell_type": "code",
      "metadata": {
        "id": "xPO5H5FRYoyj",
        "outputId": "5d598090-0ad9-4798-ed64-0700c2c6d598",
        "colab": {
          "base_uri": "https://localhost:8080/"
        }
      },
      "source": [
        "#SOLUCIÓN RETO 2: \"THE MINION GAME\"\r\n",
        "\r\n",
        "def minion_game(string):\r\n",
        "    \r\n",
        "    vocales = 'AEIOU'\r\n",
        "\r\n",
        "    stuart = 0\r\n",
        "    kevin = 0\r\n",
        "\r\n",
        "    for letra in range(len(s)):\r\n",
        "        if s[letra] in vocales:\r\n",
        "          kevin += (len(s)-letra)\r\n",
        "        else:\r\n",
        "            stuart += (len(s)-letra)\r\n",
        "\r\n",
        "    if kevin > stuart:\r\n",
        "        print(\"Kevin\", kevin)\r\n",
        "    elif kevin < stuart:\r\n",
        "        print(\"Stuart\", stuart)\r\n",
        "    else:\r\n",
        "        print(\"Draw\")\r\n",
        "        \r\n",
        "\r\n",
        "if __name__ == '__main__':\r\n",
        "    s = input() \r\n",
        "    minion_game(s)"
      ],
      "execution_count": 4,
      "outputs": [
        {
          "output_type": "stream",
          "text": [
            "ACAMPAR\n",
            "Draw\n"
          ],
          "name": "stdout"
        }
      ]
    }
  ]
}