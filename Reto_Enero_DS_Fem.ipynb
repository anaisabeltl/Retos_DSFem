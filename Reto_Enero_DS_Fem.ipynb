{
  "nbformat": 4,
  "nbformat_minor": 0,
  "metadata": {
    "colab": {
      "name": "Reto Enero DS_Fem.ipynb",
      "provenance": [],
      "authorship_tag": "ABX9TyMes7k+nowBmv44NZX1Grmu",
      "include_colab_link": true
    },
    "kernelspec": {
      "name": "python3",
      "display_name": "Python 3"
    }
  },
  "cells": [
    {
      "cell_type": "markdown",
      "metadata": {
        "id": "view-in-github",
        "colab_type": "text"
      },
      "source": [
        "<a href=\"https://colab.research.google.com/github/anaisabeltl/Retos_DSFem/blob/main/Reto_Enero_DS_Fem.ipynb\" target=\"_parent\"><img src=\"https://colab.research.google.com/assets/colab-badge.svg\" alt=\"Open In Colab\"/></a>"
      ]
    },
    {
      "cell_type": "code",
      "metadata": {
        "id": "_oWlT-xSVlJd"
      },
      "source": [
        "#!/bin/python\r\n",
        "\r\n",
        "import math\r\n",
        "import os\r\n",
        "import random\r\n",
        "import re\r\n",
        "import sys\r\n",
        "\r\n",
        "def run():\r\n",
        "    n = int(input().strip())\r\n",
        "\r\n",
        "    if n % 2 == 1:\r\n",
        "        print(\"Weird\")\r\n",
        "    elif n % 2 == 0:\r\n",
        "        if n >= 2 and n <= 5:\r\n",
        "            print(\"Not Weird\")\r\n",
        "        elif n >= 6 and n <= 20:\r\n",
        "            print(\"Weird\")\r\n",
        "        elif n > 20:\r\n",
        "            print(\"Not Weird\")\r\n",
        "\r\n",
        "\r\n",
        "if __name__ == '__main__':\r\n",
        "    run()"
      ],
      "execution_count": null,
      "outputs": []
    }
  ]
}